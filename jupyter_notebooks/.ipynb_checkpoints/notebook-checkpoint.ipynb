{
 "cells": [
  {
   "cell_type": "code",
   "execution_count": 4,
   "id": "21cdc8a2",
   "metadata": {},
   "outputs": [
    {
     "name": "stdout",
     "output_type": "stream",
     "text": [
      "helloooo\n"
     ]
    }
   ],
   "source": [
    "print(\"helloooo\")"
   ]
  },
  {
   "cell_type": "code",
   "execution_count": 5,
   "id": "79500bde",
   "metadata": {},
   "outputs": [],
   "source": [
    "from river.tree import HoeffdingTreeClassifier\n",
    "from river import stream\n",
    "from river import metrics\n",
    "\n",
    "import time\n",
    "import datetime as dt\n",
    "import pandas as pd\n",
    "import os\n",
    "\n",
    "PATH_TO_DATA = \"C:\\Users\\Bayde\\Desktop\\Hoeffding_Tree_Project_Data\\datasets_csv\"\n",
    "\n",
    "class Streamzilla:\n",
    "    def __init__(self, numLearners, winLength):\n",
    "        self.numLearners = numLearners\n",
    "        self.winLength = winLength\n",
    "        self.leaners = []\n",
    "        \n",
    "    \n",
    "    \"\"\"\n",
    "    Grace period: The number of instances a leaf should observe between split attempts. Range\n",
    "    of values (10; 200). Step = 10.\n",
    "    \n",
    "    Split Confidence: The allowable error in split decision. Range of values (0.0; 1.0). Step =\n",
    "    0.05.\n",
    "\n",
    "    Tie Threshold: Threshold below which a split will be forced to break ties. Range of values\n",
    "    (0.0; 1.0). Step = 0.05.\n",
    "    \"\"\"\n",
    "    def createTree(grace, split, tie):\n",
    "        "
   ]
  },
  {
   "cell_type": "code",
   "execution_count": null,
   "id": "55472d96",
   "metadata": {},
   "outputs": [],
   "source": []
  }
 ],
 "metadata": {
  "kernelspec": {
   "display_name": "Python 3",
   "language": "python",
   "name": "python3"
  },
  "language_info": {
   "codemirror_mode": {
    "name": "ipython",
    "version": 3
   },
   "file_extension": ".py",
   "mimetype": "text/x-python",
   "name": "python",
   "nbconvert_exporter": "python",
   "pygments_lexer": "ipython3",
   "version": "3.8.8"
  }
 },
 "nbformat": 4,
 "nbformat_minor": 5
}
