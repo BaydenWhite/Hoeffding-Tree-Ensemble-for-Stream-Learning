{
 "cells": [
  {
   "cell_type": "code",
   "execution_count": 4,
   "id": "21cdc8a2",
   "metadata": {},
   "outputs": [
    {
     "name": "stdout",
     "output_type": "stream",
     "text": [
      "helloooo\n"
     ]
    }
   ],
   "source": [
    "print(\"helloooo\")"
   ]
  },
  {
   "cell_type": "code",
   "execution_count": null,
   "id": "79500bde",
   "metadata": {},
   "outputs": [
    {
     "name": "stdout",
     "output_type": "stream",
     "text": [
      "Dataset:  electricity.csv  Learner:  HoeffdingTreeClassifier  Result:  (0.7962570621468926, 5, 589)\n",
      "Dataset:  electricity.csv  Learner:  HoeffdingTreeClassifier  Result:  (0.7892831920903954, 4, 69)\n",
      "Dataset:  SEA_abrupt.csv  Learner:  HoeffdingTreeClassifier  Result:  (0.84344, 12, 1945)\n",
      "Dataset:  SEA_abrupt.csv  Learner:  HoeffdingTreeClassifier  Result:  (0.82822, 8, 71)\n",
      "Dataset:  SEA_gradual.csv  Learner:  HoeffdingTreeClassifier  Result:  (0.8185, 15, 3249)\n",
      "Dataset:  SEA_gradual.csv  Learner:  HoeffdingTreeClassifier  Result:  (0.83321, 9, 75)\n",
      "Dataset:  RTG_2abrupt.csv  Learner:  HoeffdingTreeClassifier  Result:  (0.55177, 73, 4565)\n"
     ]
    }
   ],
   "source": [
    "from river.tree import HoeffdingTreeClassifier\n",
    "from river import stream\n",
    "from river import metrics\n",
    "from river import evaluate\n",
    "\n",
    "import time\n",
    "import datetime as dt\n",
    "import pandas as pd\n",
    "import os\n",
    "\n",
    "PATH_TO_DATA = \"C:/Users/Bayde/Desktop/Hoeffding_Tree_Project_Data/datasets_csv\"\n",
    "       \n",
    "    \n",
    "\"\"\"\n",
    "Grace period: The number of instances a leaf should observe between split attempts. Range\n",
    "of values (10; 200). Step = 10.\n",
    "\n",
    "Split Confidence: The allowable error in split decision. Range of values (0.0; 1.0). Step =\n",
    "0.05.\n",
    "\n",
    "Tie Threshold: Threshold below which a split will be forced to break ties. Range of values\n",
    "(0.0; 1.0). Step = 0.05.\n",
    "\"\"\"\n",
    "        \n",
    "        \n",
    "def model_size(model):\n",
    "    if str(model) == 'HoeffdingTreeClassifier':\n",
    "        return model.n_nodes\n",
    "    elif str(model) == 'ARFClassifier':     # In case we are interested in counting the number of nodes from all trees.\n",
    "        nodes = 0\n",
    "        for m in model.models:\n",
    "            nodes += m.model.n_nodes\n",
    "        return nodes\n",
    "    return -1\n",
    "\n",
    "\n",
    "def run_experiment(model, dataset):\n",
    "    accuracy = metrics.Accuracy()\n",
    "    start = time.perf_counter()\n",
    "\n",
    "    X, Y = dataset[:, :-1], dataset[:, -1]\n",
    "    # Downsampling the data\n",
    "    # Select every 10th element starting from the first element\n",
    "    # Useful during development, when you are making sure your\n",
    "    #    algorithm works before doing the actual experiments.\n",
    "    # X, Y = X[::10], Y[::10]\n",
    "\n",
    "    ds = stream.iter_array(X, Y)\n",
    "\n",
    "    for (x, y) in ds:\n",
    "        yp = model.predict_one(x)\n",
    "        accuracy.update(y, yp)\n",
    "        model.learn_one(x, y)\n",
    "\n",
    "    return accuracy.get(), dt.timedelta(seconds=time.perf_counter() - start).seconds, model_size(model)\n",
    "\n",
    "\n",
    "if __name__ == '__main__':\n",
    "    datasets = ['electricity.csv', 'SEA_abrupt.csv', 'SEA_gradual.csv',\n",
    "                'RTG_2abrupt.csv', 'covtype.csv']\n",
    "\n",
    "    model_ht = HoeffdingTreeClassifier(\n",
    "        grace_period=100,\n",
    "        delta=0.05,  # split confidence\n",
    "        tau=0.5  # tie threshold\n",
    "    )\n",
    "    model_ht2 = HoeffdingTreeClassifier(\n",
    "        grace_period=500,\n",
    "        delta=0.001,  # split confidence\n",
    "        tau=0.05  # tie threshold\n",
    "    )\n",
    "\n",
    "    models = [model_ht, model_ht2]     # could add more models in here for testing\n",
    "\n",
    "    for name in datasets:\n",
    "        dataset = pd.read_csv(os.path.join(PATH_TO_DATA, name)).to_numpy()\n",
    "\n",
    "        for model in models:\n",
    "            result = run_experiment(model, dataset)\n",
    "            print('Dataset: ', name, ' Learner: ', model, ' Result: ', result, \"(Accuracy, Time,  Size)\")\n"
   ]
  },
  {
   "cell_type": "code",
   "execution_count": null,
   "id": "55472d96",
   "metadata": {},
   "outputs": [],
   "source": []
  }
 ],
 "metadata": {
  "kernelspec": {
   "display_name": "Python 3",
   "language": "python",
   "name": "python3"
  },
  "language_info": {
   "codemirror_mode": {
    "name": "ipython",
    "version": 3
   },
   "file_extension": ".py",
   "mimetype": "text/x-python",
   "name": "python",
   "nbconvert_exporter": "python",
   "pygments_lexer": "ipython3",
   "version": "3.8.8"
  }
 },
 "nbformat": 4,
 "nbformat_minor": 5
}
